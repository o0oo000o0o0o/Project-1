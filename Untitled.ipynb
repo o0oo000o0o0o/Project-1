{
 "cells": [
  {
   "cell_type": "code",
   "execution_count": 1,
   "metadata": {},
   "outputs": [],
   "source": [
    "import pandas as pd\n",
    "import datetime as dt\n",
    "from dateutil.parser import parse"
   ]
  },
  {
   "cell_type": "code",
   "execution_count": 2,
   "metadata": {},
   "outputs": [],
   "source": [
    "crime_data = pd.read_csv(\"Crimes_-_2001_to_present.csv\")\n",
    "cta_data = pd.read_csv(\"CTA_-_Ridership_-_Daily_Boarding_Totals.csv\")\n",
    "# new_crime_data = pd.read_csv(\"Crimes_-_2001_to_present.csv\")\n",
    "# new_crime_data"
   ]
  },
  {
   "cell_type": "code",
   "execution_count": null,
   "metadata": {
    "scrolled": true
   },
   "outputs": [],
   "source": [
    "for x in range(110580):\n",
    "    crime_data.loc[crime_data[\"Date\"] == crime_data[\"Date\"][x], \"Date\"] = crime_data[\"Date\"][x][0:10]"
   ]
  },
  {
   "cell_type": "code",
   "execution_count": null,
   "metadata": {},
   "outputs": [],
   "source": [
    "cta_data.columns = [\"Date\", \"Day Type\", \"Bus\", \"Rail Boardings\", \"Total Rides\"]"
   ]
  },
  {
   "cell_type": "code",
   "execution_count": null,
   "metadata": {
    "scrolled": true
   },
   "outputs": [],
   "source": [
    "cta_data"
   ]
  },
  {
   "cell_type": "code",
   "execution_count": null,
   "metadata": {},
   "outputs": [],
   "source": [
    "crime_data"
   ]
  },
  {
   "cell_type": "code",
   "execution_count": null,
   "metadata": {},
   "outputs": [],
   "source": [
    "data_complete = pd.merge(cta_data, crime_data, how=\"right\", on=[\"Date\", \"Date\"])\n",
    "project_data = pd.DataFrame(data_complete)\n",
    "project_data"
   ]
  },
  {
   "cell_type": "code",
   "execution_count": null,
   "metadata": {},
   "outputs": [],
   "source": [
    "project_data.count()"
   ]
  },
  {
   "cell_type": "code",
   "execution_count": null,
   "metadata": {},
   "outputs": [],
   "source": [
    "project_data = project_data.dropna(how='any')"
   ]
  },
  {
   "cell_type": "code",
   "execution_count": null,
   "metadata": {},
   "outputs": [],
   "source": [
    "project_data.count()"
   ]
  },
  {
   "cell_type": "code",
   "execution_count": null,
   "metadata": {},
   "outputs": [],
   "source": [
    "project_data[\"Location Description\"].unique()"
   ]
  },
  {
   "cell_type": "code",
   "execution_count": null,
   "metadata": {},
   "outputs": [],
   "source": [
    "cta_bus = project_data[project_data[\"Location Description\"] == \"CTA BUS\"]\n",
    "cta_platform = project_data[project_data[\"Location Description\"] == \"CTA PLATFORM\"]\n",
    "cta_train = project_data[project_data[\"Location Description\"] == \"CTA TRAIN\"]\n",
    "cta_bus_stop = project_data[project_data[\"Location Description\"] == \"CTA_BUS_STOP\"]\n",
    "cta_l_platform = project_data[project_data[\"Location Description\"] == \"cta 'L' PLATFORM\"]"
   ]
  },
  {
   "cell_type": "code",
   "execution_count": null,
   "metadata": {},
   "outputs": [],
   "source": [
    "# What types of crime are highest on the CTA?\n",
    "cta_bus[\"Primary Type\"].value_counts()"
   ]
  },
  {
   "cell_type": "code",
   "execution_count": null,
   "metadata": {},
   "outputs": [],
   "source": [
    "# What types of crime are highest on the CTA?\n",
    "cta_platform[\"Primary Type\"].value_counts()"
   ]
  },
  {
   "cell_type": "code",
   "execution_count": null,
   "metadata": {},
   "outputs": [],
   "source": [
    "# What types of crime are highest on the CTA?\n",
    "cta_train[\"Primary Type\"].value_counts()"
   ]
  },
  {
   "cell_type": "code",
   "execution_count": null,
   "metadata": {},
   "outputs": [],
   "source": [
    "cta_bus_stop[\"Primary Type\"].value_counts()"
   ]
  },
  {
   "cell_type": "code",
   "execution_count": null,
   "metadata": {
    "scrolled": true
   },
   "outputs": [],
   "source": [
    "cta_l_platform[\"Primary Type\"].value_counts()"
   ]
  },
  {
   "cell_type": "code",
   "execution_count": null,
   "metadata": {},
   "outputs": [],
   "source": [
    "# Are crimes higher on buses or trains?\n",
    "bus_crime_count = cta_bus[\"Primary Type\"].count()\n",
    "train_crime_count = cta_train[\"Primary Type\"].count()\n",
    "print(f\"Number of Crimes on CTA Buses: {bus_crime_count}\")\n",
    "print(f\"Number of Crimes on CTA Trains: {train_crime_count}\")"
   ]
  },
  {
   "cell_type": "code",
   "execution_count": null,
   "metadata": {},
   "outputs": [],
   "source": [
    "all_dates = project_data[\"Date\"]\n",
    "[dt.datetime.strptime(x, \"%m/%d/%Y\") for x in all_dates]"
   ]
  },
  {
   "cell_type": "code",
   "execution_count": null,
   "metadata": {
    "scrolled": true
   },
   "outputs": [],
   "source": [
    "project_data[\"Date\"] = pd.to_datetime(all_dates)\n"
   ]
  },
  {
   "cell_type": "code",
   "execution_count": null,
   "metadata": {},
   "outputs": [],
   "source": [
    "project_data"
   ]
  },
  {
   "cell_type": "code",
   "execution_count": null,
   "metadata": {},
   "outputs": [],
   "source": [
    "january = project_data[project_data[\"Date\"].dt.month == 1]\n",
    "february = project_data[project_data[\"Date\"].dt.month == 2]\n",
    "march = project_data[project_data[\"Date\"].dt.month == 3]\n",
    "april = project_data[project_data[\"Date\"].dt.month == 4]\n",
    "may = project_data[project_data[\"Date\"].dt.month == 5]\n",
    "june = project_data[project_data[\"Date\"].dt.month == 6]\n",
    "july = project_data[project_data[\"Date\"].dt.month == 7]\n",
    "august = project_data[project_data[\"Date\"].dt.month == 8]\n",
    "september = project_data[project_data[\"Date\"].dt.month == 9]\n",
    "october = project_data[project_data[\"Date\"].dt.month == 10]\n",
    "november = project_data[project_data[\"Date\"].dt.month == 11]\n",
    "december = project_data[project_data[\"Date\"].dt.month == 12]"
   ]
  },
  {
   "cell_type": "code",
   "execution_count": null,
   "metadata": {},
   "outputs": [],
   "source": [
    "january"
   ]
  },
  {
   "cell_type": "code",
   "execution_count": null,
   "metadata": {},
   "outputs": [],
   "source": []
  }
 ],
 "metadata": {
  "kernelspec": {
   "display_name": "Python 3",
   "language": "python",
   "name": "python3"
  },
  "language_info": {
   "codemirror_mode": {
    "name": "ipython",
    "version": 3
   },
   "file_extension": ".py",
   "mimetype": "text/x-python",
   "name": "python",
   "nbconvert_exporter": "python",
   "pygments_lexer": "ipython3",
   "version": "3.7.4"
  }
 },
 "nbformat": 4,
 "nbformat_minor": 2
}
