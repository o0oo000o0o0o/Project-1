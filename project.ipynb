{
 "cells": [
  {
   "cell_type": "code",
   "execution_count": null,
   "metadata": {},
   "outputs": [],
   "source": [
    "# Import Dependencies\n",
    "import pandas as pd\n",
    "import datetime as dt\n",
    "import matplotlib.pyplot as plt\n",
    "import numpy as np\n",
    "import scipy.stats as stats"
   ]
  },
  {
   "cell_type": "code",
   "execution_count": null,
   "metadata": {},
   "outputs": [],
   "source": [
    "# Read Crime Data\n",
    "project_data = pd.read_csv(\"project_data.csv\")\n",
    "\n",
    "# Read CTA Data\n",
    "cta_data = pd.read_csv(\"CTA_-_Ridership_-_Daily_Boarding_Totals.csv\")\n",
    "\n",
    "# Rename CTA Columns\n",
    "cta_data.columns = [\"Date\", \"Day Type\", \"Bus\", \"Rail Boardings\", \"Total Rides\"]"
   ]
  },
  {
   "cell_type": "code",
   "execution_count": null,
   "metadata": {},
   "outputs": [],
   "source": [
    "# Assign Date Column to a Variable\n",
    "all_dates_cta = cta_data[\"Date\"]\n",
    "# Convert All Dates to a Datetime \n",
    "[dt.datetime.strptime(x, \"%m/%d/%Y\") for x in all_dates_cta]\n",
    "# Replace Date Column with Datetime Values\n",
    "cta_data[\"Date\"] = pd.to_datetime(all_dates_cta)\n",
    "# Display Modified DataFrame\n",
    "cta_data"
   ]
  },
  {
   "cell_type": "code",
   "execution_count": null,
   "metadata": {},
   "outputs": [],
   "source": [
    "# Assign Date Column to a Variable\n",
    "all_dates = project_data[\"Date\"]\n",
    "\n",
    "# Convert All Dates to a Datetime \n",
    "[dt.datetime.strptime(x, \"%Y-%m-%d\") for x in all_dates]\n",
    "\n",
    "# Replace Date Column with Datetime Values\n",
    "project_data[\"Date\"] = pd.to_datetime(all_dates)\n",
    "\n",
    "# Display Modified DataFrame\n",
    "project_data"
   ]
  },
  {
   "cell_type": "code",
   "execution_count": null,
   "metadata": {},
   "outputs": [],
   "source": [
    "# Assign All Years to a Variable\n",
    "year_2001 = project_data[project_data[\"Year\"] == 2001]\n",
    "year_2002 = project_data[project_data[\"Year\"] == 2002]\n",
    "year_2003 = project_data[project_data[\"Year\"] == 2003]\n",
    "year_2004 = project_data[project_data[\"Year\"] == 2004]\n",
    "year_2005 = project_data[project_data[\"Year\"] == 2005]\n",
    "year_2006 = project_data[project_data[\"Year\"] == 2006]\n",
    "year_2007 = project_data[project_data[\"Year\"] == 2007]\n",
    "year_2008 = project_data[project_data[\"Year\"] == 2008]\n",
    "year_2009 = project_data[project_data[\"Year\"] == 2009]\n",
    "year_2010 = project_data[project_data[\"Year\"] == 2010]\n",
    "year_2011 = project_data[project_data[\"Year\"] == 2011]\n",
    "year_2012 = project_data[project_data[\"Year\"] == 2012]\n",
    "year_2013 = project_data[project_data[\"Year\"] == 2013]\n",
    "year_2014 = project_data[project_data[\"Year\"] == 2014]\n",
    "year_2015 = project_data[project_data[\"Year\"] == 2015]\n",
    "year_2016 = project_data[project_data[\"Year\"] == 2016]\n",
    "year_2017 = project_data[project_data[\"Year\"] == 2017]\n",
    "year_2018 = project_data[project_data[\"Year\"] == 2018]\n",
    "year_2019 = project_data[project_data[\"Year\"] == 2019]"
   ]
  },
  {
   "cell_type": "code",
   "execution_count": null,
   "metadata": {},
   "outputs": [],
   "source": [
    "# Sort CTA Data by L Ridership Total\n",
    "lowest_boarding = cta_data.sort_values(\"Rail Boardings\", ascending=True)\n",
    "\n",
    "# Isolate Only Date Column\n",
    "lowest_boarding = lowest_boarding[\"Date\"].reset_index(drop = True) \n",
    "\n",
    "# Display Least Popular Days to Ride L\n",
    "lowest_boarding.head()"
   ]
  },
  {
   "cell_type": "code",
   "execution_count": null,
   "metadata": {},
   "outputs": [],
   "source": [
    "# Isolate Data from December 2004\n",
    "december_2004 = year_2004[year_2004[\"Date\"].dt.month == 12]\n",
    "\n",
    "# Isolate Data from December 25, 2004\n",
    "december_25_2004 = december_2004[december_2004[\"Date\"].dt.day == 25]\n",
    "\n",
    "# Find Number of Crimes Committed on December 25, 2004\n",
    "crimes_christmas_2004 = len(december_25_2004)\n",
    "\n",
    "# Find Average Number of Crimes per Day in 2004\n",
    "average_crime_2004 = (len(year_2004)) / 366\n",
    "\n",
    "# Find Average Number oif Crimes per Day for All Data\n",
    "average_crime_all = len(project_data) / 6575\n",
    "\n",
    "# Print Findings\n",
    "print(f\"The day the 'L' was taken the least from 2001-2016: {lowest_boarding[0]}\")\n",
    "print(f\"The number of crimes that occurred on December 25, 2004: {crimes_christmas_2004}\")\n",
    "print(f\"The number of crimes that occured on an average day in 2004: {average_crime_2004}\")\n",
    "print(f\"The number of crimes that occured on an average day (2001-2019): {average_crime_all}\")"
   ]
  },
  {
   "cell_type": "code",
   "execution_count": null,
   "metadata": {
    "scrolled": true
   },
   "outputs": [],
   "source": [
    "# Sort CTA Data by L Ridership Total\n",
    "highest_boarding = cta_data.sort_values(\"Rail Boardings\", ascending=False)\n",
    "\n",
    "# Isolate Only Date Column\n",
    "highest_boarding = highest_boarding[\"Date\"].reset_index(drop = True) \n",
    "\n",
    "# Display Most Popular Days to Ride L\n",
    "highest_boarding.head()"
   ]
  },
  {
   "cell_type": "code",
   "execution_count": null,
   "metadata": {
    "scrolled": true
   },
   "outputs": [],
   "source": [
    "# Isolate Data from November 2016\n",
    "november_2016 = year_2016[year_2016[\"Date\"].dt.month == 11]\n",
    "\n",
    "# Isolate Data from November 4, 2016\n",
    "november_04_2016 = november_2016[november_2016[\"Date\"].dt.day == 4]\n",
    "\n",
    "# Find Number of Crimes Committed on November 4, 2016\n",
    "crimes_cubs_parade = len(november_04_2016)\n",
    "\n",
    "# Find Average Number of Crimes per Day in 2016\n",
    "average_crime_2016 = (len(year_2016)) / 366\n",
    "\n",
    "# Print Findings\n",
    "print(f\"The day the 'L' was taken the most from 2001-2016: {highest_boarding[0]}\")\n",
    "print(f\"The number of crimes that occurred on November 04, 2016: {crimes_cubs_parade}\")\n",
    "print(f\"The number of crimes that occured on an average day in 2016: {average_crime_2016}\")\n",
    "print(f\"The number of crimes that occured on an average day (2001-2019): {average_crime_all}\")"
   ]
  },
  {
   "cell_type": "code",
   "execution_count": null,
   "metadata": {},
   "outputs": [],
   "source": [
    "# Create List to Hold Dara\n",
    "special_day_plot = [crimes_christmas_2004, average_crime_2004, crimes_cubs_parade, average_crime_2016, average_crime_all]\n",
    "\n",
    "# Set X Axis\n",
    "x_axis = np.arange(len(special_day_plot))\n",
    "\n",
    "# Plot Bar Graph\n",
    "plt.bar(x_axis, special_day_plot, color=[\"r\", \"b\", \"r\", \"b\", \"g\"])\n",
    "\n",
    "# Plot Y Labels\n",
    "plt.ylabel(\"Number of Crimes\")\n",
    "\n",
    "# Plot Title\n",
    "plt.title(\"Special Day Crime Count vs Average Crimes of Same Year\")\n",
    "\n",
    "# Set Tick Locations\n",
    "tick_locations = [value for value in x_axis]\n",
    "\n",
    "# Plot X Ticks\n",
    "plt.xticks(tick_locations, [\"Number \\nof Crimes \\non 12/25/04\", \"Average \\nNumber \\nof Crimes \\nper Day \\nin 2004\", \"Number \\nof Crimes \\non 11/04/16\", \"Average \\nNumber \\nof Crimes \\nper Day \\nin 2016\", \"Average \\nNumber \\nof Crimes \\nper Day \\n(2001-2019)\"])\n",
    "\n",
    "# Save Graph\n",
    "plt.savefig(\"Graphs/Special Day Crime Count vs Average Crimes of Same Year.png\")\n",
    "\n",
    "# Display Plot\n",
    "plt.show()"
   ]
  },
  {
   "cell_type": "code",
   "execution_count": null,
   "metadata": {},
   "outputs": [],
   "source": [
    "# Assign All Location Description Column Values to a Variable\n",
    "cta_platform = project_data[project_data[\"Location Description\"] == \"CTA PLATFORM\"]\n",
    "cta_train = project_data[project_data[\"Location Description\"] == \"CTA TRAIN\"]\n",
    "cta_station = project_data[project_data[\"Location Description\"] == \"CTA STATION\"]"
   ]
  },
  {
   "cell_type": "code",
   "execution_count": null,
   "metadata": {},
   "outputs": [],
   "source": [
    "# Create a List to Hold Location Description Values\n",
    "p_type = [cta_platform, cta_train, cta_station, project_data]\n",
    "\n",
    "# Create a List to Hold Location Description Value Names\n",
    "location_description  = [\"CTA PLATFORM\", \"CTA TRAIN\", \"CTA STATION\", \"ALL LOCATIONS\"]\n",
    "\n",
    "# Create a For Loop to Display Primary Crime Type\n",
    "for x in range(4):\n",
    "    print(f\"LOCATION DESCRIPTION: {location_description[x]}\")\n",
    "    print(\"PRIMARY CRIME TYPE:\")\n",
    "    print(p_type[x][\"Primary Type\"].value_counts())\n",
    "    print(f'Total Crimes: {p_type[x][\"Primary Type\"].count()}')\n",
    "    print(\"----------------------------------\")"
   ]
  },
  {
   "cell_type": "code",
   "execution_count": null,
   "metadata": {},
   "outputs": [],
   "source": [
    "all_locations = project_data[\"Primary Type\"].value_counts()\n",
    "all_locations = all_locations.head(10)\n",
    "all_locations\n",
    "len(all_locations)\n",
    "x_axis = np.arange(len(all_locations))\n",
    "plt.bar(x_axis, all_locations)\n",
    "plt.ylabel(\"Number of Crimes\")\n",
    "plt.xlabel(\"Type of Crime\")\n",
    "plt.title(\"Top 10 Crimes from 2001-2019 on CTA 'L' Train\")\n",
    "tick_locations = [value for value in x_axis]\n",
    "plt.xticks(tick_locations, [\"Theft\", \"Deceptive Practice\", \"Battery\", \"Narcotics\", \"Robbery\", \"Criminal Damage\", \"Criminal Trespass\", \"Assault\",  \"Sex Offense\", \"Public Peace Violation\"], rotation = 270)\n",
    "plt.savefig(\"Graphs/Top 10 Crimes from 2001-2019 on CTA 'L' Train.png\")\n",
    "plt.show()"
   ]
  },
  {
   "cell_type": "code",
   "execution_count": null,
   "metadata": {},
   "outputs": [],
   "source": [
    "# Example DO NOT EDIT!\n",
    "# Filter for a Single Month Example\n",
    "january_2001 = year_2001[year_2001[\"Date\"].dt.month == 1]\n",
    "\n",
    "# Display Example\n",
    "january_2001"
   ]
  },
  {
   "cell_type": "code",
   "execution_count": null,
   "metadata": {},
   "outputs": [],
   "source": [
    "january_2019 = year_2019[year_2019[\"Date\"].dt.month == 1]\n",
    "february_2019 = year_2019[year_2019[\"Date\"].dt.month == 2]\n",
    "march_2019 = year_2019[year_2019[\"Date\"].dt.month == 3]\n",
    "april_2019 = year_2019[year_2019[\"Date\"].dt.month == 4]\n",
    "may_2019 = year_2019[year_2019[\"Date\"].dt.month == 5]\n",
    "june_2019 = year_2019[year_2019[\"Date\"].dt.month == 6]\n",
    "july_2019 = year_2019[year_2019[\"Date\"].dt.month == 7]\n",
    "august_2019 = year_2019[year_2019[\"Date\"].dt.month == 8]\n",
    "september_2019 = year_2019[year_2019[\"Date\"].dt.month == 9]\n",
    "october_2019 = year_2019[year_2019[\"Date\"].dt.month == 10]\n",
    "november_2019 = year_2019[year_2019[\"Date\"].dt.month == 11]\n",
    "december_2019 = year_2019[year_2019[\"Date\"].dt.month == 12]\n",
    "\n",
    "month_2019 = [january_2019, february_2019, march_2019, april_2019, may_2019, june_2019, july_2019, august_2019, september_2019, october_2019, november_2019, december_2019]\n",
    "month = [\"January\", \"February\", \"March\", \"April\", \"May\", \"June\", \"July\", \"August\", \"September\", \"October\", \"November\", \"December\"]\n",
    "for x in range(len(month_2019)):\n",
    "    print(f'Month: {month[x]}')\n",
    "    print(month_2019[x][\"Primary Type\"].value_counts())\n",
    "    print(\"------------------------------------\")\n",
    "    "
   ]
  },
  {
   "cell_type": "code",
   "execution_count": null,
   "metadata": {},
   "outputs": [],
   "source": [
    "theft = []\n",
    "deceptive_practice = []\n",
    "battery = []\n",
    "narcotics = []\n",
    "robbery = []\n",
    "for x in range(len(month_2019)):\n",
    "    theft.append(len(month_2019[x][month_2019[x][\"Primary Type\"] == \"THEFT\"]))\n",
    "    deceptive_practice.append(len(month_2019[x][month_2019[x][\"Primary Type\"] == \"DECEPTIVE PRACTICE\"]))\n",
    "    battery.append(len(month_2019[x][month_2019[x][\"Primary Type\"] == \"BATTERY\"]))\n",
    "    narcotics.append(len(month_2019[x][month_2019[x][\"Primary Type\"] == \"NARCOTICS\"]))\n",
    "    robbery.append(len(month_2019[x][month_2019[x][\"Primary Type\"] == \"ROBBERY\"]))\n",
    "\n",
    "\n",
    "    \n",
    "    \n",
    "    \n",
    "    \n",
    "plt.plot(month, theft)\n",
    "plt.plot(month, battery)\n",
    "plt.plot(month, deceptive_practice)\n",
    "plt.plot(month, narcotics)\n",
    "plt.plot(month, robbery)\n",
    "plt.xticks(rotation = 45)\n",
    "plt.title(\"Top 5 Crimes in 2019\")\n",
    "plt.ylabel(\"Number of Crimes\")\n",
    "plt.xlabel(\"Month\")\n",
    "plt.ylim(0, 275)\n",
    "theft_handle,= plt.plot(month, theft, label = \"Theft\")\n",
    "deceptive_handle,= plt.plot(month, deceptive_practice, label = \"Deceptive Practice\")\n",
    "battery_handle,= plt.plot(month, battery, label = \"Battery\")\n",
    "narcotics_handle,= plt.plot(month, narcotics, label = \"Narcotics\")\n",
    "robbery_handle,= plt.plot(month, robbery, label = \"Robbery\")\n",
    "plt.legend(handles = [theft_handle, deceptive_handle, battery_handle, narcotics_handle, robbery_handle], loc=\"best\")\n",
    "plt.savefig(\"Graphs/Top 5 Crimes in 2019.png\")\n",
    "plt.show()"
   ]
  },
  {
   "cell_type": "code",
   "execution_count": null,
   "metadata": {},
   "outputs": [],
   "source": [
    "# Example DO NOT EDIT!\n",
    "# Filter for a Single Day Example\n",
    "january_01_2001 = january_2001[january_2001[\"Date\"].dt.day == 1]\n",
    "\n",
    "# Display Example\n",
    "january_01_2001"
   ]
  },
  {
   "cell_type": "code",
   "execution_count": null,
   "metadata": {},
   "outputs": [],
   "source": [
    "# Example DO NOT EDIT!\n",
    "# Filter Homicide Data\n",
    "homicide = project_data[project_data[\"Primary Type\"] == \"HOMICIDE\"].reset_index(drop = True) \n",
    "\n",
    "# Display Homicide Data\n",
    "homicide"
   ]
  },
  {
   "cell_type": "code",
   "execution_count": null,
   "metadata": {},
   "outputs": [],
   "source": [
    "# Created list of project data by year\n",
    "plot_year = [year_2001, year_2002, year_2003, year_2004, year_2005, year_2006, year_2007, year_2008, year_2009, year_2010, year_2011, year_2012, year_2013, year_2014, year_2015, year_2016, year_2017, year_2018, year_2019]\n",
    "\n",
    "# Created empty list to append total crime count for that year\n",
    "total_crime_year = []\n",
    "\n",
    "# Created year list to plot \n",
    "year = [2001, 2002, 2003, 2004, 2005, 2006, 2007, 2008, 2009, 2010, 2011, 2012, 2013, 2014, 2015, 2016, 2017, 2018, 2019]\n",
    "\n",
    "# For loop to add total crime count to list above\n",
    "for x in range(19):\n",
    "    total_crime_year.append(plot_year[x][\"Primary Type\"].count())\n",
    "\n",
    "# Plotted year vs crime count \n",
    "plt.plot(year, total_crime_year)\n",
    "plt.xticks(ticks = year, rotation = 45)\n",
    "plt.ylabel(\"Crimes\")\n",
    "plt.xlabel(\"Year\")\n",
    "plt.title(\"Crimes by Year\")\n",
    "plt.grid()\n",
    "plt.savefig(\"Graphs/Crimes by Year.png\")\n",
    "plt.show()"
   ]
  },
  {
   "cell_type": "code",
   "execution_count": null,
   "metadata": {},
   "outputs": [],
   "source": [
    "# set ridership count for year to 0 \n",
    "ridership_2001 = 0\n",
    "ridership_2002 = 0\n",
    "ridership_2003 = 0\n",
    "ridership_2004 = 0\n",
    "ridership_2005 = 0\n",
    "ridership_2006 = 0\n",
    "ridership_2007 = 0\n",
    "ridership_2008 = 0\n",
    "ridership_2009 = 0\n",
    "ridership_2010 = 0\n",
    "ridership_2011 = 0\n",
    "ridership_2012 = 0\n",
    "ridership_2013 = 0\n",
    "ridership_2014 = 0\n",
    "ridership_2015 = 0\n",
    "ridership_2016 = 0\n",
    "ridership_2017 = 0\n",
    "ridership_2018 = 0\n",
    "ridership_2019 = 0\n",
    "#For loop to get total rider count for each year \n",
    "for x in range(cta_data[\"Rail Boardings\"].count()):    \n",
    "    if cta_data[\"Date\"].dt.year[x] == 2001:\n",
    "        ridership_2001 += cta_data[\"Rail Boardings\"][x]\n",
    "    elif cta_data[\"Date\"].dt.year[x] == 2002:\n",
    "        ridership_2002 += cta_data[\"Rail Boardings\"][x]    \n",
    "    elif cta_data[\"Date\"].dt.year[x] == 2003:\n",
    "        ridership_2003 += cta_data[\"Rail Boardings\"][x]\n",
    "    elif cta_data[\"Date\"].dt.year[x] == 2004:\n",
    "        ridership_2004 += cta_data[\"Rail Boardings\"][x]\n",
    "    elif cta_data[\"Date\"].dt.year[x] == 2005:\n",
    "        ridership_2005 += cta_data[\"Rail Boardings\"][x]\n",
    "    elif cta_data[\"Date\"].dt.year[x] == 2006:\n",
    "        ridership_2006 += cta_data[\"Rail Boardings\"][x]\n",
    "    elif cta_data[\"Date\"].dt.year[x] == 2007:\n",
    "        ridership_2007 += cta_data[\"Rail Boardings\"][x]\n",
    "    elif cta_data[\"Date\"].dt.year[x] == 2008:\n",
    "        ridership_2008 += cta_data[\"Rail Boardings\"][x]\n",
    "    elif cta_data[\"Date\"].dt.year[x] == 2009:\n",
    "        ridership_2009 += cta_data[\"Rail Boardings\"][x]\n",
    "    elif cta_data[\"Date\"].dt.year[x] == 2010:\n",
    "        ridership_2010 += cta_data[\"Rail Boardings\"][x]\n",
    "    elif cta_data[\"Date\"].dt.year[x] == 2011:\n",
    "        ridership_2011 += cta_data[\"Rail Boardings\"][x]\n",
    "    elif cta_data[\"Date\"].dt.year[x] == 2012:\n",
    "        ridership_2012 += cta_data[\"Rail Boardings\"][x]\n",
    "    elif cta_data[\"Date\"].dt.year[x] == 2013:\n",
    "        ridership_2013 += cta_data[\"Rail Boardings\"][x]\n",
    "    elif cta_data[\"Date\"].dt.year[x] == 2014:\n",
    "        ridership_2014 += cta_data[\"Rail Boardings\"][x]\n",
    "    elif cta_data[\"Date\"].dt.year[x] == 2015:\n",
    "        ridership_2015 += cta_data[\"Rail Boardings\"][x]\n",
    "    elif cta_data[\"Date\"].dt.year[x] == 2016:\n",
    "        ridership_2016 += cta_data[\"Rail Boardings\"][x]\n",
    "    elif cta_data[\"Date\"].dt.year[x] == 2017:\n",
    "        ridership_2017 += cta_data[\"Rail Boardings\"][x]\n",
    "    elif cta_data[\"Date\"].dt.year[x] == 2018:\n",
    "        ridership_2018 += cta_data[\"Rail Boardings\"][x]\n",
    "    elif cta_data[\"Date\"].dt.year[x] == 2019:\n",
    "        ridership_2019 += cta_data[\"Rail Boardings\"][x]\n",
    "# Print rider count for each year\n",
    "print(f'Total ridership in 2001: {ridership_2001}')\n",
    "print(f'Total ridership in 2002: {ridership_2002}')\n",
    "print(f'Total ridership in 2003: {ridership_2003}')\n",
    "print(f'Total ridership in 2004: {ridership_2004}')\n",
    "print(f'Total ridership in 2005: {ridership_2005}')\n",
    "print(f'Total ridership in 2006: {ridership_2006}')\n",
    "print(f'Total ridership in 2007: {ridership_2007}')\n",
    "print(f'Total ridership in 2008: {ridership_2008}')\n",
    "print(f'Total ridership in 2009: {ridership_2009}')\n",
    "print(f'Total ridership in 2010: {ridership_2010}')\n",
    "print(f'Total ridership in 2011: {ridership_2011}')\n",
    "print(f'Total ridership in 2012: {ridership_2012}')\n",
    "print(f'Total ridership in 2013: {ridership_2013}')\n",
    "print(f'Total ridership in 2014: {ridership_2014}')\n",
    "print(f'Total ridership in 2015: {ridership_2015}')\n",
    "print(f'Total ridership in 2016: {ridership_2016}')\n",
    "print(f'Total ridership in 2017: {ridership_2017}')\n",
    "print(f'Total ridership in 2018: {ridership_2018}')\n",
    "print(f'Total ridership in 2019: {ridership_2019}')"
   ]
  },
  {
   "cell_type": "code",
   "execution_count": null,
   "metadata": {},
   "outputs": [],
   "source": [
    "# Added ridership count for each year to list\n",
    "ridership_count = [ridership_2001, ridership_2002, ridership_2003, ridership_2004, ridership_2005, ridership_2006, ridership_2007, ridership_2008, ridership_2009, ridership_2010, ridership_2011, ridership_2012, ridership_2013, ridership_2014, ridership_2015, ridership_2016, ridership_2017, ridership_2018, ridership_2019]\n",
    "\n",
    "# Found total riders to ensure that rider aligns with rider count in cta_data (excluded 2020 year)\n",
    "# Set ridership count to 0\n",
    "total_ridership = 0\n",
    "for x in range(19):\n",
    "    total_ridership += ridership_count[x]\n",
    "\n",
    "total_data_ridership = cta_data[\"Rail Boardings\"].sum()\n",
    "    \n",
    "print(f\"Total Number of 'L' Riders (2001-2019): {total_ridership}\")\n",
    "print(f\"Total Numbers of 'L' Riders (2001-2/2020): {total_data_ridership}\")"
   ]
  },
  {
   "cell_type": "code",
   "execution_count": null,
   "metadata": {},
   "outputs": [],
   "source": [
    "#Plot rider count vs year\n",
    "plt.plot(year, ridership_count)\n",
    "plt.xticks(ticks = year, rotation = 45)\n",
    "plt.ylabel(\"Rider Count (By 100M)\")\n",
    "plt.xlabel(\"Year\")\n",
    "plt.title(\"Rider Count by Year\")\n",
    "plt.grid()\n",
    "plt.savefig(\"Graphs/Rider Count by Year.png\")\n",
    "plt.show()\n",
    "\n",
    "#Plot crimes vs year\n",
    "plt.plot(year, total_crime_year)\n",
    "plt.xticks(ticks = year, rotation = 45)\n",
    "plt.ylabel(\"Crimes\")\n",
    "plt.xlabel(\"Year\")\n",
    "plt.title(\"Crimes by Year\")\n",
    "plt.grid()\n",
    "plt.show()\n"
   ]
  },
  {
   "cell_type": "code",
   "execution_count": null,
   "metadata": {
    "scrolled": false
   },
   "outputs": [],
   "source": [
    "type_of_crime = year_2019[\"Primary Type\"].value_counts()\n",
    "len(year_2019[\"Primary Type\"].value_counts())\n",
    "x_axis = np.arange(len(type_of_crime))\n",
    "plt.bar(x_axis, type_of_crime)\n",
    "plt.ylabel(\"Crimes\")\n",
    "plt.xlabel(\"Type of Crime\")\n",
    "plt.title(\"Most Common Crimes in 2019\")\n",
    "tick_locations = [value for value in x_axis]\n",
    "plt.xticks(tick_locations, [\"Theft\", \"Battery\", \"Deceptive Practice\", \"Robbery\", \"Criminal Damage\", \"Assault\", \"Criminal Trespass\", \"Narcotics\", \"Public Peace Violation\", \"Sex Offense\", \"Other Offense\", \"Interference with Public Officer\", \"Weapons Violation\", \"Crim Sexaul Assault\", \"Stalking\", \"Offense Involving Children\", \"Homicide\", \"Concealed Carry License\", \"Burglary\", \"Other Narcotic Violation\", \"Prostituion\", \"Arson\", \"Obscentiy\", \"Motor Vehicle Theft\"], rotation = 270)\n",
    "plt.savefig(\"Graphs/Most Common Crimes in 2019.png\")\n",
    "plt.show()\n",
    "type_of_crime"
   ]
  },
  {
   "cell_type": "code",
   "execution_count": null,
   "metadata": {},
   "outputs": [],
   "source": [
    "crime_year = []\n",
    "for x in range(19):\n",
    "    crime_year.append(total_crime_year[x] / ridership_count[x])\n",
    "    print(f\"Crime Rate in {year[x]}: {crime_year[x]}\")\n",
    "    \n",
    "plt.plot(year, crime_year)\n",
    "plt.xticks(ticks = year, rotation = 45)\n",
    "plt.ylabel(\"Crime Rate (%)\")\n",
    "plt.xlabel(\"Year\")\n",
    "plt.title(\"Crime Rate by Year\")\n",
    "plt.grid()\n",
    "plt.savefig(\"Graphs/Crime Rate by Year.png\")\n",
    "plt.show()"
   ]
  },
  {
   "cell_type": "code",
   "execution_count": null,
   "metadata": {},
   "outputs": [],
   "source": [
    "riders_per_crime = []\n",
    "for x in range(19):\n",
    "    riders_per_crime.append(ridership_count[x] / total_crime_year[x])\n",
    "    print(f\"Riders Per Crime in {year[x]}: {riders_per_crime[x]}\")\n",
    "    \n",
    "\n",
    "plt.plot(year, riders_per_crime)\n",
    "plt.xticks(ticks = year, rotation = 45)\n",
    "plt.ylabel(\"Riders Per Crime\")\n",
    "plt.xlabel(\"Year\")\n",
    "plt.title(\"Riders Per Crime by Year\")\n",
    "plt.grid()\n",
    "plt.savefig(\"Graphs/Riders Per Crime by Year.png\")\n",
    "plt.show()"
   ]
  },
  {
   "cell_type": "code",
   "execution_count": null,
   "metadata": {
    "scrolled": true
   },
   "outputs": [],
   "source": [
    "pre_2013 = project_data[project_data[\"Date\"].dt.year<=2012]\n",
    "post_2012 = project_data[project_data[\"Date\"].dt.year>2012]\n",
    "post_2012"
   ]
  },
  {
   "cell_type": "code",
   "execution_count": null,
   "metadata": {},
   "outputs": [],
   "source": [
    "crime_pre_2013 = len(pre_2013) / 12\n",
    "crime_post_2012 = len(post_2012) / 7\n",
    "avg_crime = len(project_data) / 19\n",
    "\n",
    "print(crime_pre_2013)\n",
    "print(crime_post_2012)\n",
    "print(avg_crime)"
   ]
  },
  {
   "cell_type": "code",
   "execution_count": null,
   "metadata": {},
   "outputs": [],
   "source": [
    "observed = pd.Series([crime_pre_2013, crime_post_2012], index=[\"(2001-2012)\", \"(2013-2019)\"])\n",
    "observed = pd.DataFrame([observed]).T\n",
    "observed[1] = avg_crime\n",
    "observed.columns = [\"observed\",\"expected\"]\n",
    "critical_value = stats.chi2.ppf(q = .95, df = 1)\n",
    "critical_value"
   ]
  },
  {
   "cell_type": "code",
   "execution_count": null,
   "metadata": {},
   "outputs": [],
   "source": [
    "stats.chisquare(observed[\"observed\"], observed[\"expected\"])"
   ]
  }
 ],
 "metadata": {
  "kernelspec": {
   "display_name": "Python 3",
   "language": "python",
   "name": "python3"
  },
  "language_info": {
   "codemirror_mode": {
    "name": "ipython",
    "version": 3
   },
   "file_extension": ".py",
   "mimetype": "text/x-python",
   "name": "python",
   "nbconvert_exporter": "python",
   "pygments_lexer": "ipython3",
   "version": "3.7.4"
  }
 },
 "nbformat": 4,
 "nbformat_minor": 2
}
